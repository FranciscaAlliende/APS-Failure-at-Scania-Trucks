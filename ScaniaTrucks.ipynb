{
  "nbformat": 4,
  "nbformat_minor": 0,
  "metadata": {
    "colab": {
      "name": "ScaniaTrucks.ipynb",
      "provenance": [],
      "collapsed_sections": [],
      "mount_file_id": "1bSggZRJU9iPkSaA1zMQfp880qlX9L9hb",
      "authorship_tag": "ABX9TyPc+rHJHVassFU1lxutvuEb",
      "include_colab_link": true
    },
    "kernelspec": {
      "name": "python3",
      "display_name": "Python 3"
    },
    "accelerator": "GPU"
  },
  "cells": [
    {
      "cell_type": "markdown",
      "metadata": {
        "id": "view-in-github",
        "colab_type": "text"
      },
      "source": [
        "<a href=\"https://colab.research.google.com/github/FranciscaAlliende/APS-Failure-at-Scania-Trucks/blob/master/ScaniaTrucks.ipynb\" target=\"_parent\"><img src=\"https://colab.research.google.com/assets/colab-badge.svg\" alt=\"Open In Colab\"/></a>"
      ]
    },
    {
      "cell_type": "code",
      "metadata": {
        "id": "Zymivew4tmS7",
        "colab_type": "code",
        "colab": {
          "base_uri": "https://localhost:8080/",
          "height": 53
        },
        "outputId": "f2444d98-cd6e-4f16-fae7-8a2530fa058e"
      },
      "source": [
        "from google.colab import drive\n",
        "drive.mount(\"/content/drive\")\n",
        "\n",
        "import sys\n",
        "sys.path.append('/content/drive/My Drive/Colab Notebooks')\n",
        "\n",
        "import warnings\n",
        "warnings.filterwarnings(\"ignore\")"
      ],
      "execution_count": 1,
      "outputs": [
        {
          "output_type": "stream",
          "text": [
            "Drive already mounted at /content/drive; to attempt to forcibly remount, call drive.mount(\"/content/drive\", force_remount=True).\n"
          ],
          "name": "stdout"
        }
      ]
    },
    {
      "cell_type": "markdown",
      "metadata": {
        "id": "YvcehCPEsya9",
        "colab_type": "text"
      },
      "source": [
        "STEPS:\n",
        "1. basic_prepro\n",
        " - input: raw dataset\n",
        " - output: basic preprocessesed dataset\n",
        "2. null_values\n",
        " - input: basic preprocessesed train + test sets\n",
        " - output: y_train, X_train, y_test, X_test, wihout null values\n",
        " * hyperparameter. t: % of null values for a feature to be consideR: set at 50%\n",
        "3. unbalanced classes (downsampling or SMOTE)\n",
        " - input: y, X unbalance pair\n",
        " - output: y, X balanced pair\n",
        " * hyperparameter: SMOTE number of neighbors: set at 100\n",
        "4. dimensionality reduction(Random Forest or PCA)\n",
        " - input: X_train, y_train after unbalanced class and X_test after null_values\n",
        " - output: X_train and X_test with the selected features\n",
        " * hyperparameters:\n",
        "    - Random Forest: n_estimators: set at 100 and g: feature importance (gini) threshold, set after vizualizing the corresponding graph at 0.02 for downsampling and 0.015 for upsampling.  \n",
        "    - PCA: nc: number of components, set at 80\n",
        "\n"
      ]
    },
    {
      "cell_type": "code",
      "metadata": {
        "id": "3rQsxDGgyACY",
        "colab_type": "code",
        "colab": {}
      },
      "source": [
        "import pandas as pd\n",
        "import basic_prepro as bp\n",
        "import null_values as nv\n",
        "import unbalanced_classes as uc\n",
        "import dim_reduction as dr"
      ],
      "execution_count": 2,
      "outputs": []
    },
    {
      "cell_type": "code",
      "metadata": {
        "id": "sh-iaDwAwWEk",
        "colab_type": "code",
        "colab": {}
      },
      "source": [
        "train = pd.read_csv('/content/drive/My Drive/Colab Notebooks/aps_failure_training_set.csv')\n",
        "test = pd.read_csv('/content/drive/My Drive/Colab Notebooks/aps_failure_test_set.csv')"
      ],
      "execution_count": 3,
      "outputs": []
    },
    {
      "cell_type": "code",
      "metadata": {
        "id": "89f7rads72hq",
        "colab_type": "code",
        "colab": {}
      },
      "source": [
        "# basic prepocessing\n",
        "train = bp.data_prepro(train)\n",
        "test = bp.data_prepro(test)"
      ],
      "execution_count": 4,
      "outputs": []
    },
    {
      "cell_type": "code",
      "metadata": {
        "id": "_Tmj-PZhteZo",
        "colab_type": "code",
        "colab": {}
      },
      "source": [
        "# null values\n",
        "[y_train, X_train, y_test, X_test] = nv.null_values(train, test, t=0.5)"
      ],
      "execution_count": 5,
      "outputs": []
    },
    {
      "cell_type": "code",
      "metadata": {
        "id": "4eEmyzqi7BQx",
        "colab_type": "code",
        "colab": {}
      },
      "source": [
        "# downsampling\n",
        "[y_down_train, X_down_train] = uc.downsampling(y_train, X_train)"
      ],
      "execution_count": 6,
      "outputs": []
    },
    {
      "cell_type": "code",
      "metadata": {
        "id": "6lYf9JljUXpP",
        "colab_type": "code",
        "colab": {}
      },
      "source": [
        "# upsampling\n",
        "[y_up_train, X_up_train] = uc.mySMOTE(y_train, X_train, 100)"
      ],
      "execution_count": 7,
      "outputs": []
    },
    {
      "cell_type": "code",
      "metadata": {
        "id": "i_vi5e3e1meJ",
        "colab_type": "code",
        "colab": {
          "base_uri": "https://localhost:8080/",
          "height": 312
        },
        "outputId": "b8954a8c-c65f-48cb-9f32-fea4d5a54002"
      },
      "source": [
        "# dimensionality reduction RF + downsampling\n",
        "[X_train_down_RF, X_test_down_RF] = dr.RF(X_down_train, y_down_train, X_test, n_estimators=100, g=0.02)"
      ],
      "execution_count": 8,
      "outputs": [
        {
          "output_type": "display_data",
          "data": {
            "image/png": "[encoded data removed]",
            "text/plain": [
              "<Figure size 432x288 with 1 Axes>"
            ]
          },
          "metadata": {
            "tags": [],
            "needs_background": "light"
          }
        },
        {
          "output_type": "stream",
          "text": [
            "N selected features: 12\n"
          ],
          "name": "stdout"
        }
      ]
    },
    {
      "cell_type": "code",
      "metadata": {
        "id": "eN4XYKjw1y57",
        "colab_type": "code",
        "colab": {
          "base_uri": "https://localhost:8080/",
          "height": 312
        },
        "outputId": "391c8ee7-be05-4ac3-c51f-7bd3d406c945"
      },
      "source": [
        "# dimensionality reduction RF + upsampling\n",
        "[X_train_up_RF, X_test_up_RF] = dr.RF(X_up_train, y_up_train, X_test, n_estimators=100, g=0.015)"
      ],
      "execution_count": 9,
      "outputs": [
        {
          "output_type": "display_data",
          "data": {
            "image/png": "[encoded data removed]",
            "text/plain": [
              "<Figure size 432x288 with 1 Axes>"
            ]
          },
          "metadata": {
            "tags": [],
            "needs_background": "light"
          }
        },
        {
          "output_type": "stream",
          "text": [
            "N selected features: 21\n"
          ],
          "name": "stdout"
        }
      ]
    },
    {
      "cell_type": "code",
      "metadata": {
        "id": "sZubDkCzUe3A",
        "colab_type": "code",
        "colab": {
          "base_uri": "https://localhost:8080/",
          "height": 399
        },
        "outputId": "ea024fa0-130b-4b26-e52e-7f2f7dd09249"
      },
      "source": [
        "# dimensionality reduction PCA + downsampling\n",
        "[X_train_down_PCA, X_test_down_PCA] = dr.myPCA(X_down_train, X_test, 80)"
      ],
      "execution_count": 10,
      "outputs": [
        {
          "output_type": "display_data",
          "data": {
            "image/png": "[encoded data removed]",
            "text/plain": [
              "<Figure size 576x432 with 1 Axes>"
            ]
          },
          "metadata": {
            "tags": [],
            "needs_background": "light"
          }
        }
      ]
    },
    {
      "cell_type": "code",
      "metadata": {
        "id": "oH09TpHdZCnG",
        "colab_type": "code",
        "colab": {
          "base_uri": "https://localhost:8080/",
          "height": 399
        },
        "outputId": "377a360f-8980-4213-e266-5fcf6a310471"
      },
      "source": [
        "# dimensionality reduction PCA + upsampling\n",
        "[X_train_up_PCA, X_test_up_PCA] = dr.myPCA(X_up_train, X_test, 80)"
      ],
      "execution_count": 11,
      "outputs": [
        {
          "output_type": "display_data",
          "data": {
            "image/png": "[encoded data removed]",
            "text/plain": [
              "<Figure size 576x432 with 1 Axes>"
            ]
          },
          "metadata": {
            "tags": [],
            "needs_background": "light"
          }
        }
      ]
    },
    {
      "cell_type": "markdown",
      "metadata": {
        "id": "OIVZTlgLg-ZW",
        "colab_type": "text"
      },
      "source": [
        "## Classification"
      ]
    },
    {
      "cell_type": "markdown",
      "metadata": {
        "id": "momqJOO4hIkz",
        "colab_type": "text"
      },
      "source": [
        "#### SVM\n"
      ]
    },
    {
      "cell_type": "code",
      "metadata": {
        "id": "DluY8ii9hzZs",
        "colab_type": "code",
        "colab": {}
      },
      "source": [
        "from sklearn import svm\n",
        "from sklearn import metrics"
      ],
      "execution_count": 12,
      "outputs": []
    },
    {
      "cell_type": "code",
      "metadata": {
        "id": "sAPiE5Y6g7iS",
        "colab_type": "code",
        "colab": {}
      },
      "source": [
        "def mySVM(X_train, y_train, X_test, y_test):\n",
        "\n",
        "  clf = svm.SVC()\n",
        "  clf.fit(X_train, y_train)\n",
        "  y_pred = clf.predict(X_test)\n",
        "\n",
        "  print(\"Accuracy:\", round(metrics.accuracy_score(y_test, y_pred),3))\n",
        "\n",
        "  print(\"Precision:\", round(metrics.precision_score(y_test, y_pred), 3))\n",
        "\n",
        "  print(\"Recall:\", round(metrics.recall_score(y_test, y_pred)))"
      ],
      "execution_count": 13,
      "outputs": []
    },
    {
      "cell_type": "code",
      "metadata": {
        "id": "XzEpIxmNhF9h",
        "colab_type": "code",
        "colab": {
          "base_uri": "https://localhost:8080/",
          "height": 67
        },
        "outputId": "3dff2c3e-b2c9-4819-8d3c-83ebcb5ae77d"
      },
      "source": [
        "mySVM(X_train_down_RF,y_down_train, X_test_down_RF, y_test)"
      ],
      "execution_count": 15,
      "outputs": [
        {
          "output_type": "stream",
          "text": [
            "Accuracy: 0.944\n",
            "Precision: 0.288\n",
            "Recall: 1.0\n"
          ],
          "name": "stdout"
        }
      ]
    },
    {
      "cell_type": "code",
      "metadata": {
        "id": "A_YIEMjohGAn",
        "colab_type": "code",
        "colab": {
          "base_uri": "https://localhost:8080/",
          "height": 67
        },
        "outputId": "b7081c03-b129-4060-8338-8b31e5e1ae9f"
      },
      "source": [
        "mySVM(X_train_up_RF, y_up_train, X_test_up_RF, y_test)"
      ],
      "execution_count": 16,
      "outputs": [
        {
          "output_type": "stream",
          "text": [
            "Accuracy: 0.949\n",
            "Precision: 0.309\n",
            "Recall: 1.0\n"
          ],
          "name": "stdout"
        }
      ]
    },
    {
      "cell_type": "code",
      "metadata": {
        "id": "UqmmnwQUhGEM",
        "colab_type": "code",
        "colab": {
          "base_uri": "https://localhost:8080/",
          "height": 67
        },
        "outputId": "7eec4572-f618-4a5c-f4cf-e07e69c6caa1"
      },
      "source": [
        "mySVM(X_train_down_PCA, y_down_train, X_test_down_PCA, y_test)"
      ],
      "execution_count": 17,
      "outputs": [
        {
          "output_type": "stream",
          "text": [
            "Accuracy: 0.961\n",
            "Precision: 0.369\n",
            "Recall: 1.0\n"
          ],
          "name": "stdout"
        }
      ]
    },
    {
      "cell_type": "code",
      "metadata": {
        "id": "JMgYQySbkECi",
        "colab_type": "code",
        "colab": {
          "base_uri": "https://localhost:8080/",
          "height": 67
        },
        "outputId": "08613765-3f6f-4f20-d3c9-36eb974d91e9"
      },
      "source": [
        "mySVM(X_train_up_PCA, y_up_train, X_test_up_PCA, y_test)"
      ],
      "execution_count": 18,
      "outputs": [
        {
          "output_type": "stream",
          "text": [
            "Accuracy: 0.956\n",
            "Precision: 0.342\n",
            "Recall: 1.0\n"
          ],
          "name": "stdout"
        }
      ]
    },
    {
      "cell_type": "markdown",
      "metadata": {
        "id": "DGyp9iJ6lIEk",
        "colab_type": "text"
      },
      "source": [
        "### Logistic Regression"
      ]
    },
    {
      "cell_type": "code",
      "metadata": {
        "id": "GTpboYOWhG80",
        "colab_type": "code",
        "colab": {}
      },
      "source": [
        "# X_train_down_RF,y_down_train, X_test_down_RF, y_test\n",
        "# X_train_up_RF, y_up_train, X_test_up_RF, y_test\n",
        "# X_train_down_PCA, y_down_train, X_test_down_PCA, y_test\n",
        "# X_train_up_PCA, y_up_train, X_test_up_PCA, y_test"
      ],
      "execution_count": 14,
      "outputs": []
    },
    {
      "cell_type": "code",
      "metadata": {
        "id": "pgtYqUe2s5rY",
        "colab_type": "code",
        "colab": {}
      },
      "source": [
        ""
      ],
      "execution_count": null,
      "outputs": []
    },
    {
      "cell_type": "code",
      "metadata": {
        "id": "6OkYaPpTrSsB",
        "colab_type": "code",
        "colab": {}
      },
      "source": [
        ""
      ],
      "execution_count": null,
      "outputs": []
    },
    {
      "cell_type": "markdown",
      "metadata": {
        "id": "8zGJVneUrTPc",
        "colab_type": "text"
      },
      "source": [
        "## Cost definition\n",
        "Scenario 1: our goal is to minimize the cost associated with:\n",
        "1. Unnecessary checks done by mechanic - \\$10\n",
        "2. Missing a faulty truck, which may cause breakdown \\$500 \n",
        "\n",
        "\\* perform sensitivity analysis in prices\n",
        "\n",
        "\n",
        "\n"
      ]
    }
  ]
}