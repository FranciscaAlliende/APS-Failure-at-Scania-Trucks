{
 "cells": [
  {
   "cell_type": "code",
   "execution_count": 1,
   "metadata": {},
   "outputs": [],
   "source": [
    "# setup\n",
    "import pandas as pd\n",
    "import matplotlib.pyplot as plt\n",
    "from sklearn.metrics import confusion_matrix\n",
    "from sklearn.metrics import plot_confusion_matrix\n",
    "from sklearn.metrics import precision_recall_curve\n",
    "from sklearn.metrics import plot_precision_recall_curve\n",
    "from sklearn.metrics import f1_score, precision_score, recall_score\n",
    "from sklearn.model_selection import GridSearchCV\n",
    "from sklearn.metrics import make_scorer\n",
    "\n",
    "import MyFunctions as f"
   ]
  },
  {
   "cell_type": "code",
   "execution_count": 3,
   "metadata": {},
   "outputs": [],
   "source": [
    "def evaluation_metrics(y_pred, y_test, X_test, clf, c1, c2, modelid):\n",
    "    \n",
    "    tn, fp, fn, tp = confusion_matrix(y_test, y_pred).ravel()\n",
    "    cost = c1*fp + c2*fn\n",
    "    print(\"Total cost:\", cost)\n",
    "    print()\n",
    "    \n",
    "    f1s = f1_score(y_test, y_pred)\n",
    "    pres = precision_score(y_test, y_pred)\n",
    "    recall = recall_score(y_test, y_pred)\n",
    "\n",
    "    print(\"F1 score\" , round(f1s, 3))\n",
    "    print(\"Precision: \", round(pres, 3))\n",
    "    print(\"Recall\", round(recall, 3))\n",
    "    print()\n",
    "    print(\"False positives: \",fp)\n",
    "    print(\"False negatives: \",fn)\n",
    "    print()\n",
    " \n",
    "    print(\"Confusion matrix, without normalization\")\n",
    "    plot_confusion_matrix(clf, X_test, y_test, values_format = \"d\", cmap = \"Greens\")\n",
    "    plt.savefig(\"figures/cm\"+modelid+\".png\", bbox_inches = \"tight\")\n",
    "    plt.show()  \n",
    "\n",
    "    print(\"     Normalized confusion matrix\")\n",
    "    plot_confusion_matrix(clf, X_test, y_test, cmap = \"Blues\",  normalize=\"true\")\n",
    "    plt.savefig(\"figures/cm_normalized\"+modelid+\".png\", bbox_inches = \"tight\")\n",
    "    plt.show() \n",
    "\n",
    "    return cost, f1s, pres, recall"
   ]
  }
 ],
 "metadata": {
  "kernelspec": {
   "display_name": "Python 3",
   "language": "python",
   "name": "python3"
  },
  "language_info": {
   "codemirror_mode": {
    "name": "ipython",
    "version": 3
   },
   "file_extension": ".py",
   "mimetype": "text/x-python",
   "name": "python",
   "nbconvert_exporter": "python",
   "pygments_lexer": "ipython3",
   "version": "3.7.7"
  }
 },
 "nbformat": 4,
 "nbformat_minor": 4
}
