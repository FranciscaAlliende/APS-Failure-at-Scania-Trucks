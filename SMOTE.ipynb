{
  "nbformat": 4,
  "nbformat_minor": 0,
  "metadata": {
    "colab": {
      "name": "SMOTE.ipynb",
      "provenance": [],
      "collapsed_sections": [],
      "authorship_tag": "ABX9TyNIn2IHPMLi+01l2015/9Ap",
      "include_colab_link": true
    },
    "kernelspec": {
      "name": "python3",
      "display_name": "Python 3"
    }
  },
  "cells": [
    {
      "cell_type": "markdown",
      "metadata": {
        "id": "view-in-github",
        "colab_type": "text"
      },
      "source": [
        "<a href=\"https://colab.research.google.com/github/FranciscaAlliende/APS-Failure-at-Scania-Trucks/blob/master/SMOTE.ipynb\" target=\"_parent\"><img src=\"https://colab.research.google.com/assets/colab-badge.svg\" alt=\"Open In Colab\"/></a>"
      ]
    },
    {
      "cell_type": "code",
      "metadata": {
        "id": "UeLLyGbAwc1h",
        "colab_type": "code",
        "colab": {
          "base_uri": "https://localhost:8080/",
          "height": 121
        },
        "outputId": "efbdb869-2e5e-44a6-aa7b-a0f1610d7466"
      },
      "source": [
        "from google.colab import drive\n",
        "drive.mount(\"/content/drive\")\n",
        "\n",
        "import sys\n",
        "sys.path.append('/content/drive/My Drive/Colab Notebooks')"
      ],
      "execution_count": 2,
      "outputs": [
        {
          "output_type": "stream",
          "text": [
            "Go to this URL in a browser: https://accounts.google.com/o/oauth2/auth?client_id=947318989803-6bn6qk8qdgf4n4g3pfee6491hc0brc4i.apps.googleusercontent.com&redirect_uri=urn%3aietf%3awg%3aoauth%3a2.0%3aoob&scope=email%20https%3a%2f%2fwww.googleapis.com%2fauth%2fdocs.test%20https%3a%2f%2fwww.googleapis.com%2fauth%2fdrive%20https%3a%2f%2fwww.googleapis.com%2fauth%2fdrive.photos.readonly%20https%3a%2f%2fwww.googleapis.com%2fauth%2fpeopleapi.readonly&response_type=code\n",
            "\n",
            "Enter your authorization code:\n",
            "··········\n",
            "Mounted at /content/drive\n"
          ],
          "name": "stdout"
        }
      ]
    },
    {
      "cell_type": "code",
      "metadata": {
        "id": "22Mkf9WEHKnr",
        "colab_type": "code",
        "colab": {
          "base_uri": "https://localhost:8080/",
          "height": 356
        },
        "outputId": "86455027-2a0a-4d25-b5e1-dea4f25aaf66"
      },
      "source": [
        "!pip install -U imbalanced-learn"
      ],
      "execution_count": 3,
      "outputs": [
        {
          "output_type": "stream",
          "text": [
            "Collecting imbalanced-learn\n",
            "\u001b[?25l  Downloading https://files.pythonhosted.org/packages/c8/81/8db4d87b03b998fda7c6f835d807c9ae4e3b141f978597b8d7f31600be15/imbalanced_learn-0.7.0-py3-none-any.whl (167kB)\n",
            "\r\u001b[K     |██                              | 10kB 16.3MB/s eta 0:00:01\r\u001b[K     |████                            | 20kB 2.7MB/s eta 0:00:01\r\u001b[K     |█████▉                          | 30kB 3.7MB/s eta 0:00:01\r\u001b[K     |███████▉                        | 40kB 3.9MB/s eta 0:00:01\r\u001b[K     |█████████▉                      | 51kB 3.2MB/s eta 0:00:01\r\u001b[K     |███████████▊                    | 61kB 3.6MB/s eta 0:00:01\r\u001b[K     |█████████████▊                  | 71kB 3.8MB/s eta 0:00:01\r\u001b[K     |███████████████▊                | 81kB 4.2MB/s eta 0:00:01\r\u001b[K     |█████████████████▋              | 92kB 4.4MB/s eta 0:00:01\r\u001b[K     |███████████████████▋            | 102kB 4.4MB/s eta 0:00:01\r\u001b[K     |█████████████████████▋          | 112kB 4.4MB/s eta 0:00:01\r\u001b[K     |███████████████████████▌        | 122kB 4.4MB/s eta 0:00:01\r\u001b[K     |█████████████████████████▌      | 133kB 4.4MB/s eta 0:00:01\r\u001b[K     |███████████████████████████▌    | 143kB 4.4MB/s eta 0:00:01\r\u001b[K     |█████████████████████████████▍  | 153kB 4.4MB/s eta 0:00:01\r\u001b[K     |███████████████████████████████▍| 163kB 4.4MB/s eta 0:00:01\r\u001b[K     |████████████████████████████████| 174kB 4.4MB/s \n",
            "\u001b[?25hRequirement already satisfied, skipping upgrade: numpy>=1.13.3 in /usr/local/lib/python3.6/dist-packages (from imbalanced-learn) (1.18.5)\n",
            "Collecting scikit-learn>=0.23\n",
            "\u001b[?25l  Downloading https://files.pythonhosted.org/packages/5c/a1/273def87037a7fb010512bbc5901c31cfddfca8080bc63b42b26e3cc55b3/scikit_learn-0.23.2-cp36-cp36m-manylinux1_x86_64.whl (6.8MB)\n",
            "\u001b[K     |████████████████████████████████| 6.8MB 11.7MB/s \n",
            "\u001b[?25hRequirement already satisfied, skipping upgrade: scipy>=0.19.1 in /usr/local/lib/python3.6/dist-packages (from imbalanced-learn) (1.4.1)\n",
            "Requirement already satisfied, skipping upgrade: joblib>=0.11 in /usr/local/lib/python3.6/dist-packages (from imbalanced-learn) (0.16.0)\n",
            "Collecting threadpoolctl>=2.0.0\n",
            "  Downloading https://files.pythonhosted.org/packages/f7/12/ec3f2e203afa394a149911729357aa48affc59c20e2c1c8297a60f33f133/threadpoolctl-2.1.0-py3-none-any.whl\n",
            "Installing collected packages: threadpoolctl, scikit-learn, imbalanced-learn\n",
            "  Found existing installation: scikit-learn 0.22.2.post1\n",
            "    Uninstalling scikit-learn-0.22.2.post1:\n",
            "      Successfully uninstalled scikit-learn-0.22.2.post1\n",
            "  Found existing installation: imbalanced-learn 0.4.3\n",
            "    Uninstalling imbalanced-learn-0.4.3:\n",
            "      Successfully uninstalled imbalanced-learn-0.4.3\n",
            "Successfully installed imbalanced-learn-0.7.0 scikit-learn-0.23.2 threadpoolctl-2.1.0\n"
          ],
          "name": "stdout"
        }
      ]
    },
    {
      "cell_type": "code",
      "metadata": {
        "id": "Ql5eMIowwpVw",
        "colab_type": "code",
        "colab": {}
      },
      "source": [
        "# setup\n",
        "import matplotlib.pyplot as plt\n",
        "import pandas as pd\n",
        "from numpy import mean\n",
        "import imblearn\n",
        "from sklearn.model_selection import cross_val_score\n",
        "from sklearn.model_selection import RepeatedStratifiedKFold\n",
        "from sklearn.tree import DecisionTreeClassifier\n",
        "from imblearn.pipeline import Pipeline\n",
        "from imblearn.over_sampling import SMOTE\n",
        "from imblearn.under_sampling import RandomUnderSampler\n",
        "from sklearn.model_selection import train_test_split\n",
        "from sklearn.metrics import confusion_matrix\n",
        "from sklearn import svm\n",
        "from sklearn.linear_model import LogisticRegression\n",
        "from sklearn.neighbors import KNeighborsClassifier \n",
        "from sklearn.ensemble import RandomForestClassifier\n",
        "# my libraries \n",
        "import basic_prepro as bp\n",
        "import null_values as nv\n",
        "import evaluation_metrics as em"
      ],
      "execution_count": 10,
      "outputs": []
    },
    {
      "cell_type": "code",
      "metadata": {
        "id": "tqsl5PX6wvCS",
        "colab_type": "code",
        "colab": {}
      },
      "source": [
        "# load data\n",
        "train = pd.read_csv('/content/drive/My Drive/Colab Notebooks/aps_failure_training_set.csv')\n",
        "test = pd.read_csv('/content/drive/My Drive/Colab Notebooks/aps_failure_test_set.csv')"
      ],
      "execution_count": 6,
      "outputs": []
    },
    {
      "cell_type": "code",
      "metadata": {
        "id": "cZAB7Vq8wz4D",
        "colab_type": "code",
        "colab": {}
      },
      "source": [
        "# basic prepocessing\n",
        "# replace in class column: pos = 1; neg = 0\n",
        "# replace the na and nan values with np.NaN\n",
        "train = bp.data_prepro(train)\n",
        "test = bp.data_prepro(test)"
      ],
      "execution_count": 7,
      "outputs": []
    },
    {
      "cell_type": "code",
      "metadata": {
        "id": "lTg0jd63kwNl",
        "colab_type": "code",
        "colab": {}
      },
      "source": [
        "# null values\n",
        "# drop the features with more than t% of null values on the train set \n",
        "# fill the remaining null values with the median of the corresponding feature with SimpleImputer(strategy = \"median\").\n",
        "[y_train, X_train, y_test, X_test] = nv.null_values(train, test, t=0.5)"
      ],
      "execution_count": 8,
      "outputs": []
    },
    {
      "cell_type": "code",
      "metadata": {
        "id": "KgaqasXb4Tqa",
        "colab_type": "code",
        "colab": {
          "base_uri": "https://localhost:8080/",
          "height": 84
        },
        "outputId": "3689e5c3-6e52-4fa0-a684-7fb32ac80e90"
      },
      "source": [
        "# choosing the number of neighbors k\n",
        "# divide de test set into validation and test\n",
        "X_test2, X_val, y_test2, y_val = train_test_split(X_test, y_test, test_size=0.33, random_state=333)\n",
        "\n",
        "print(X_val.shape)\n",
        "print(y_val.shape)\n",
        "print(X_test2.shape)\n",
        "print(y_test2.shape)"
      ],
      "execution_count": 11,
      "outputs": [
        {
          "output_type": "stream",
          "text": [
            "(5280, 162)\n",
            "(5280,)\n",
            "(10720, 162)\n",
            "(10720,)\n"
          ],
          "name": "stdout"
        }
      ]
    },
    {
      "cell_type": "code",
      "metadata": {
        "id": "dKfKc2PYfzd4",
        "colab_type": "code",
        "colab": {
          "base_uri": "https://localhost:8080/",
          "height": 279
        },
        "outputId": "86d91a31-32e1-4b81-dd3c-70ac7ef9a105"
      },
      "source": [
        "k_values = range(1,11)\n",
        "costs = []\n",
        "\n",
        "for k in k_values:\n",
        "  # oversample\n",
        "  over = SMOTE(sampling_strategy=0.6, k_neighbors=k) \n",
        "  X_res, y_res = over.fit_resample(X_train, y_train)\n",
        "\n",
        "  # undersample\n",
        "  under = RandomUnderSampler(sampling_strategy=0.8)\n",
        "  X_train_up, y_train_up = under.fit_resample(X_res, y_res) \n",
        "\n",
        "  # define classifier\n",
        "  clf = DecisionTreeClassifier()\n",
        "\n",
        "  # traine\n",
        "  clf.fit(X_train_up, y_train_up.values)\n",
        "  \n",
        "  # predict\n",
        "  y_pred = clf.predict(X_val)\n",
        "\n",
        "  # evaluate\n",
        "  tn, fp, fn, tp = confusion_matrix(y_val, y_pred).ravel()\n",
        "  c1 = 10\n",
        "  c2 = 500\n",
        "  cost = c1*fp + c2*fn\n",
        "  costs.append(cost)\n",
        "\n",
        "# plot\n",
        "plt.scatter(k_values, costs, c=\"b\", alpha=0.5)\n",
        "plt.xlabel(\"k\")\n",
        "plt.ylabel(\"cost\")\n",
        "plt.show()"
      ],
      "execution_count": 13,
      "outputs": [
        {
          "output_type": "display_data",
          "data": {
            "image/png": "[encoded data removed]",
            "text/plain": [
              "<Figure size 432x288 with 1 Axes>"
            ]
          },
          "metadata": {
            "tags": [],
            "needs_background": "light"
          }
        }
      ]
    },
    {
      "cell_type": "code",
      "metadata": {
        "id": "yCSPlyOsjZxG",
        "colab_type": "code",
        "colab": {
          "base_uri": "https://localhost:8080/",
          "height": 218
        },
        "outputId": "1d8d4234-125e-4818-aebb-3a1fd65f7a2c"
      },
      "source": [
        "# Transform the training set\n",
        "# oversample\n",
        "k = 7\n",
        "over = SMOTE(sampling_strategy=0.6, k_neighbors=k) \n",
        "X_res, y_res = over.fit_resample(X_train, y_train)\n",
        "print(\"original\")\n",
        "print(y_train.value_counts())\n",
        "print(\"after oversampling\")\n",
        "print(y_res.value_counts())\n",
        "# undersampling\n",
        "under = RandomUnderSampler(sampling_strategy=0.8)\n",
        "X_train_up, y_train_up = under.fit_resample(X_res, y_res) \n",
        "print(\"after undersampling (final)\")\n",
        "print(y_train_up.value_counts())"
      ],
      "execution_count": 14,
      "outputs": [
        {
          "output_type": "stream",
          "text": [
            "original\n",
            "0    59000\n",
            "1     1000\n",
            "Name: class, dtype: int64\n",
            "after oversampling\n",
            "0    59000\n",
            "1    35400\n",
            "Name: class, dtype: int64\n",
            "after undersampling (final)\n",
            "0    44250\n",
            "1    35400\n",
            "Name: class, dtype: int64\n"
          ],
          "name": "stdout"
        }
      ]
    },
    {
      "cell_type": "code",
      "metadata": {
        "id": "eZAx8kXzl17a",
        "colab_type": "code",
        "colab": {
          "base_uri": "https://localhost:8080/",
          "height": 84
        },
        "outputId": "56805559-2c08-4da6-a3b3-00483df37ccd"
      },
      "source": [
        "# check\n",
        "print(X_train.shape)\n",
        "print(X_train_up.shape)\n",
        "print(y_train.shape)\n",
        "print(y_train_up.shape)"
      ],
      "execution_count": 15,
      "outputs": [
        {
          "output_type": "stream",
          "text": [
            "(60000, 162)\n",
            "(79650, 162)\n",
            "(60000,)\n",
            "(79650,)\n"
          ],
          "name": "stdout"
        }
      ]
    },
    {
      "cell_type": "code",
      "metadata": {
        "id": "kFpWNsoE_6uK",
        "colab_type": "code",
        "colab": {
          "base_uri": "https://localhost:8080/",
          "height": 970
        },
        "outputId": "3ba5eb40-6756-4eb1-fa99-1076c897c5ce"
      },
      "source": [
        "# RF\n",
        "clf_RF = RandomForestClassifier(random_state=333)\n",
        "# training \n",
        "clf_RF.fit(X_train_up, y_train_up.values)\n",
        "# prediction\n",
        "y_pred_RF = clf_RF.predict(X_test2)\n",
        "# evaluation\n",
        "em.evaluation_metrics(y_pred_RF, y_test2, X_test2, clf_RF, c1=10, c2=500)"
      ],
      "execution_count": 16,
      "outputs": [
        {
          "output_type": "stream",
          "text": [
            "False positives:  111\n",
            "False negatives:  37\n",
            "Total cost: 19610\n",
            "Confusion matrix, without normalization\n"
          ],
          "name": "stdout"
        },
        {
          "output_type": "display_data",
          "data": {
            "image/png": "[encoded data removed]",
            "text/plain": [
              "<Figure size 432x288 with 2 Axes>"
            ]
          },
          "metadata": {
            "tags": [],
            "needs_background": "light"
          }
        },
        {
          "output_type": "stream",
          "text": [
            "     Normalized confusion matrix\n"
          ],
          "name": "stdout"
        },
        {
          "output_type": "display_data",
          "data": {
            "image/png": "[encoded data removed]",
            "text/plain": [
              "<Figure size 432x288 with 2 Axes>"
            ]
          },
          "metadata": {
            "tags": [],
            "needs_background": "light"
          }
        },
        {
          "output_type": "display_data",
          "data": {
            "image/png": "[encoded data removed]",
            "text/plain": [
              "<Figure size 432x288 with 1 Axes>"
            ]
          },
          "metadata": {
            "tags": [],
            "needs_background": "light"
          }
        },
        {
          "output_type": "stream",
          "text": [
            "f1 score 0.732\n",
            "precision:  0.645\n",
            "recall 0.845\n"
          ],
          "name": "stdout"
        },
        {
          "output_type": "execute_result",
          "data": {
            "text/plain": [
              "(19610, 0.7318840579710144, 0.645367412140575, 0.8451882845188284)"
            ]
          },
          "metadata": {
            "tags": []
          },
          "execution_count": 16
        }
      ]
    },
    {
      "cell_type": "code",
      "metadata": {
        "id": "C_ioG1no_6xK",
        "colab_type": "code",
        "colab": {
          "base_uri": "https://localhost:8080/",
          "height": 971
        },
        "outputId": "4128cdfa-bfeb-487d-c466-8fa44da2dc0b"
      },
      "source": [
        "# k-NN\n",
        "neigh = KNeighborsClassifier(n_neighbors=7)\n",
        "# training \n",
        "neigh.fit(X_train_up, y_train_up.values)\n",
        "# prediction\n",
        "y_pred_neigh = neigh.predict(X_test2)\n",
        "# evaluation\n",
        "em. evaluation_metrics(y_pred_neigh, y_test2, X_test2, neigh, c1=10, c2=500)"
      ],
      "execution_count": 17,
      "outputs": [
        {
          "output_type": "stream",
          "text": [
            "False positives:  309\n",
            "False negatives:  26\n",
            "Total cost: 16090\n",
            "Confusion matrix, without normalization\n"
          ],
          "name": "stdout"
        },
        {
          "output_type": "display_data",
          "data": {
            "image/png": "[encoded data removed]",
            "text/plain": [
              "<Figure size 432x288 with 2 Axes>"
            ]
          },
          "metadata": {
            "tags": [],
            "needs_background": "light"
          }
        },
        {
          "output_type": "stream",
          "text": [
            "     Normalized confusion matrix\n"
          ],
          "name": "stdout"
        },
        {
          "output_type": "display_data",
          "data": {
            "image/png": "[encoded data removed]",
            "text/plain": [
              "<Figure size 432x288 with 2 Axes>"
            ]
          },
          "metadata": {
            "tags": [],
            "needs_background": "light"
          }
        },
        {
          "output_type": "display_data",
          "data": {
            "image/png": "[encoded data removed]",
            "text/plain": [
              "<Figure size 432x288 with 1 Axes>"
            ]
          },
          "metadata": {
            "tags": [],
            "needs_background": "light"
          }
        },
        {
          "output_type": "stream",
          "text": [
            "f1 score 0.56\n",
            "precision:  0.408\n",
            "recall 0.891\n"
          ],
          "name": "stdout"
        },
        {
          "output_type": "execute_result",
          "data": {
            "text/plain": [
              "(16090, 0.5597897503285152, 0.40804597701149425, 0.891213389121339)"
            ]
          },
          "metadata": {
            "tags": []
          },
          "execution_count": 17
        }
      ]
    },
    {
      "cell_type": "code",
      "metadata": {
        "id": "daNVHTePBKud",
        "colab_type": "code",
        "colab": {
          "base_uri": "https://localhost:8080/",
          "height": 974
        },
        "outputId": "4025b0b2-41ab-4b52-e236-15f93ea6064d"
      },
      "source": [
        "# SVM\n",
        "clf_SVM = svm.SVC()\n",
        "# training \n",
        "clf_SVM.fit(X_train_up, y_train_up.values)\n",
        "# prediction\n",
        "y_pred_SVM = clf_SVM.predict(X_test2)\n",
        "# evaluation\n",
        "em. evaluation_metrics(y_pred_SVM, y_test2, X_test2, clf_SVM, c1=10, c2=500)"
      ],
      "execution_count": 18,
      "outputs": [
        {
          "output_type": "stream",
          "text": [
            "False positives:  405\n",
            "False negatives:  17\n",
            "Total cost: 12550\n",
            "Confusion matrix, without normalization\n"
          ],
          "name": "stdout"
        },
        {
          "output_type": "display_data",
          "data": {
            "image/png": "[encoded data removed]",
            "text/plain": [
              "<Figure size 432x288 with 2 Axes>"
            ]
          },
          "metadata": {
            "tags": [],
            "needs_background": "light"
          }
        },
        {
          "output_type": "stream",
          "text": [
            "     Normalized confusion matrix\n"
          ],
          "name": "stdout"
        },
        {
          "output_type": "display_data",
          "data": {
            "image/png": "[encoded data removed]",
            "text/plain": [
              "<Figure size 432x288 with 2 Axes>"
            ]
          },
          "metadata": {
            "tags": [],
            "needs_background": "light"
          }
        },
        {
          "output_type": "display_data",
          "data": {
            "image/png": "[encoded data removed]",
            "text/plain": [
              "<Figure size 432x288 with 1 Axes>"
            ]
          },
          "metadata": {
            "tags": [],
            "needs_background": "light"
          }
        },
        {
          "output_type": "stream",
          "text": [
            "f1 score 0.513\n",
            "precision:  0.354\n",
            "recall 0.929\n"
          ],
          "name": "stdout"
        },
        {
          "output_type": "execute_result",
          "data": {
            "text/plain": [
              "(12550, 0.5127020785219399, 0.35406698564593303, 0.9288702928870293)"
            ]
          },
          "metadata": {
            "tags": []
          },
          "execution_count": 18
        }
      ]
    }
  ]
}